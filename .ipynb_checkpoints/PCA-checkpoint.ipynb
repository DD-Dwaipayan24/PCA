{
 "cells": [
  {
   "cell_type": "code",
   "execution_count": 1,
   "id": "468b54fb-c83b-47c1-8bb7-24111305f520",
   "metadata": {},
   "outputs": [],
   "source": [
    "import numpy as np"
   ]
  },
  {
   "cell_type": "code",
   "execution_count": 31,
   "id": "8816c14c-8b51-4c7e-af13-00099851d57c",
   "metadata": {},
   "outputs": [],
   "source": [
    "class PCA:\n",
    "    def __init__(self,n_components):\n",
    "        self.n_components = n_components\n",
    "        self.mean = None\n",
    "        self.components = None\n",
    "    def fit(self,X):\n",
    "        self.mean  = np.mean(X , axis = 0)\n",
    "\n",
    "        #centralizing the data\n",
    "        X = X - self.mean\n",
    "\n",
    "        #calculate covariance\n",
    "        cov = np.cov(X.T)\n",
    "\n",
    "        #calculate eigen vectors and eigen values of the covariance matrix\n",
    "        eigen_values , eigen_vectors = np.linalg.eig(cov)\n",
    "\n",
    "\n",
    "        eigen_vectors = eigen_vectors.T\n",
    "\n",
    "\n",
    "        # sort eigen values and eigen vectors in descending order\n",
    "        indexes = np.argsort(eigen_values)[::-1]\n",
    "        eigen_values = eigen_values[indexes]\n",
    "        eigen_vectors = eigen_vectors[indexes]\n",
    "\n",
    "        # eigen_vectors = eigen_vectors.T\n",
    "\n",
    "\n",
    "        self.components = eigen_vectors[:self.n_components]\n",
    "    def transform(self,X):\n",
    "\n",
    "\n",
    "        #centralizing the data\n",
    "        X = X - self.mean\n",
    "\n",
    "        return np.dot(X,self.components.T)\n",
    "        "
   ]
  },
  {
   "cell_type": "code",
   "execution_count": 32,
   "id": "f675cc78-28b0-4119-8a5d-02568bc091ae",
   "metadata": {},
   "outputs": [],
   "source": [
    "from sklearn import datasets\n",
    "\n",
    "data = datasets.load_iris()\n",
    "X = data.data\n",
    "y = data.target"
   ]
  },
  {
   "cell_type": "code",
   "execution_count": 34,
   "id": "413d308b-a615-431a-837e-bc693d930a2f",
   "metadata": {},
   "outputs": [
    {
     "name": "stdout",
     "output_type": "stream",
     "text": [
      "(150, 4)\n",
      "(150, 2)\n"
     ]
    }
   ],
   "source": [
    "pca = PCA(2)\n",
    "pca.fit(X)\n",
    "projected = pca.transform(X)\n",
    "\n",
    "print(np.shape(X))\n",
    "print(np.shape(projected))"
   ]
  },
  {
   "cell_type": "code",
   "execution_count": 25,
   "id": "60f282fa-ef0f-449f-a7c9-4ea132551ec1",
   "metadata": {},
   "outputs": [],
   "source": [
    "eves , evas = np.linalg.eig(np.cov(X.T))"
   ]
  },
  {
   "cell_type": "code",
   "execution_count": 27,
   "id": "ca252d33-8beb-44df-8aa4-40c0687f2011",
   "metadata": {},
   "outputs": [
    {
     "data": {
      "text/plain": [
       "array([[ 0.36138659, -0.65658877, -0.58202985,  0.31548719],\n",
       "       [-0.08452251, -0.73016143,  0.59791083, -0.3197231 ],\n",
       "       [ 0.85667061,  0.17337266,  0.07623608, -0.47983899],\n",
       "       [ 0.3582892 ,  0.07548102,  0.54583143,  0.75365743]])"
      ]
     },
     "execution_count": 27,
     "metadata": {},
     "output_type": "execute_result"
    }
   ],
   "source": [
    "evas"
   ]
  },
  {
   "cell_type": "code",
   "execution_count": null,
   "id": "2e6fa0b9-4769-4213-bd48-4105bf57f9d3",
   "metadata": {},
   "outputs": [],
   "source": []
  }
 ],
 "metadata": {
  "kernelspec": {
   "display_name": "Python 3 (ipykernel)",
   "language": "python",
   "name": "python3"
  },
  "language_info": {
   "codemirror_mode": {
    "name": "ipython",
    "version": 3
   },
   "file_extension": ".py",
   "mimetype": "text/x-python",
   "name": "python",
   "nbconvert_exporter": "python",
   "pygments_lexer": "ipython3",
   "version": "3.10.12"
  }
 },
 "nbformat": 4,
 "nbformat_minor": 5
}
